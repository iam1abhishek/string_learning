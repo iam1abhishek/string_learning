{
 "cells": [
  {
   "cell_type": "code",
   "execution_count": 1,
   "id": "6d11e7d2",
   "metadata": {},
   "outputs": [],
   "source": [
    "a=\"Abhishek\""
   ]
  },
  {
   "cell_type": "code",
   "execution_count": 2,
   "id": "ef6d75d9",
   "metadata": {},
   "outputs": [
    {
     "data": {
      "text/plain": [
       "'Abhishek'"
      ]
     },
     "execution_count": 2,
     "metadata": {},
     "output_type": "execute_result"
    }
   ],
   "source": [
    "a"
   ]
  },
  {
   "cell_type": "code",
   "execution_count": 3,
   "id": "eb2171c4",
   "metadata": {},
   "outputs": [],
   "source": [
    "\n",
    "\n",
    "\n",
    "a='''Abhishek'''"
   ]
  },
  {
   "cell_type": "code",
   "execution_count": 4,
   "id": "77765f65",
   "metadata": {},
   "outputs": [
    {
     "data": {
      "text/plain": [
       "'Abhishek'"
      ]
     },
     "execution_count": 4,
     "metadata": {},
     "output_type": "execute_result"
    }
   ],
   "source": [
    "a\n"
   ]
  },
  {
   "cell_type": "code",
   "execution_count": 5,
   "id": "b904520c",
   "metadata": {},
   "outputs": [],
   "source": [
    "a=\"abhi\""
   ]
  },
  {
   "cell_type": "code",
   "execution_count": 6,
   "id": "78f1b880",
   "metadata": {},
   "outputs": [],
   "source": [
    "b=\"abhi\""
   ]
  },
  {
   "cell_type": "code",
   "execution_count": 7,
   "id": "f8811aba",
   "metadata": {},
   "outputs": [],
   "source": [
    "c=\"abhi\""
   ]
  },
  {
   "cell_type": "code",
   "execution_count": 8,
   "id": "1846f107",
   "metadata": {},
   "outputs": [
    {
     "name": "stdout",
     "output_type": "stream",
     "text": [
      "2263324334704\n"
     ]
    }
   ],
   "source": [
    "print(id(a))"
   ]
  },
  {
   "cell_type": "code",
   "execution_count": 9,
   "id": "134881e2",
   "metadata": {},
   "outputs": [
    {
     "name": "stdout",
     "output_type": "stream",
     "text": [
      "2263324334704\n"
     ]
    }
   ],
   "source": [
    "print(id(b))"
   ]
  },
  {
   "cell_type": "code",
   "execution_count": 10,
   "id": "21d7b7e7",
   "metadata": {},
   "outputs": [
    {
     "name": "stdout",
     "output_type": "stream",
     "text": [
      "2263324334704\n"
     ]
    }
   ],
   "source": [
    "print(id(c))"
   ]
  },
  {
   "cell_type": "code",
   "execution_count": null,
   "id": "56e153f1",
   "metadata": {},
   "outputs": [],
   "source": []
  },
  {
   "cell_type": "markdown",
   "id": "e520a4ec",
   "metadata": {},
   "source": [
    "Strings are immutable"
   ]
  },
  {
   "cell_type": "markdown",
   "id": "77062e3d",
   "metadata": {},
   "source": [
    "concatanation of strings"
   ]
  },
  {
   "cell_type": "code",
   "execution_count": 11,
   "id": "b883ab06",
   "metadata": {},
   "outputs": [],
   "source": [
    "a= \"red\""
   ]
  },
  {
   "cell_type": "code",
   "execution_count": 12,
   "id": "989ec0e5",
   "metadata": {},
   "outputs": [],
   "source": [
    "a=a+\"blue\""
   ]
  },
  {
   "cell_type": "code",
   "execution_count": 13,
   "id": "1849b8c0",
   "metadata": {},
   "outputs": [
    {
     "data": {
      "text/plain": [
       "'redblue'"
      ]
     },
     "execution_count": 13,
     "metadata": {},
     "output_type": "execute_result"
    }
   ],
   "source": [
    "a"
   ]
  },
  {
   "cell_type": "code",
   "execution_count": 14,
   "id": "a9567d87",
   "metadata": {},
   "outputs": [],
   "source": [
    "a=a+'blue' +'green'"
   ]
  },
  {
   "cell_type": "code",
   "execution_count": 15,
   "id": "47993bd2",
   "metadata": {},
   "outputs": [
    {
     "data": {
      "text/plain": [
       "'redbluebluegreen'"
      ]
     },
     "execution_count": 15,
     "metadata": {},
     "output_type": "execute_result"
    }
   ],
   "source": [
    "a"
   ]
  },
  {
   "cell_type": "code",
   "execution_count": 16,
   "id": "9f8cf74d",
   "metadata": {},
   "outputs": [],
   "source": [
    "a+='red'"
   ]
  },
  {
   "cell_type": "code",
   "execution_count": 17,
   "id": "9a3c1261",
   "metadata": {},
   "outputs": [
    {
     "data": {
      "text/plain": [
       "'redbluebluegreenred'"
      ]
     },
     "execution_count": 17,
     "metadata": {},
     "output_type": "execute_result"
    }
   ],
   "source": [
    "a"
   ]
  },
  {
   "cell_type": "code",
   "execution_count": 18,
   "id": "e10e9f11",
   "metadata": {},
   "outputs": [
    {
     "data": {
      "text/plain": [
       "2263323719472"
      ]
     },
     "execution_count": 18,
     "metadata": {},
     "output_type": "execute_result"
    }
   ],
   "source": [
    "id(a)"
   ]
  },
  {
   "cell_type": "code",
   "execution_count": 19,
   "id": "29a72905",
   "metadata": {},
   "outputs": [],
   "source": [
    "a+='yello'"
   ]
  },
  {
   "cell_type": "code",
   "execution_count": 20,
   "id": "07e75bd8",
   "metadata": {},
   "outputs": [
    {
     "data": {
      "text/plain": [
       "'redbluebluegreenredyello'"
      ]
     },
     "execution_count": 20,
     "metadata": {},
     "output_type": "execute_result"
    }
   ],
   "source": [
    "a"
   ]
  },
  {
   "cell_type": "code",
   "execution_count": 21,
   "id": "5d3b9199",
   "metadata": {},
   "outputs": [
    {
     "data": {
      "text/plain": [
       "2263324272368"
      ]
     },
     "execution_count": 21,
     "metadata": {},
     "output_type": "execute_result"
    }
   ],
   "source": [
    "id(a)"
   ]
  },
  {
   "cell_type": "code",
   "execution_count": 22,
   "id": "9f1058a5",
   "metadata": {},
   "outputs": [],
   "source": [
    "a='blue'"
   ]
  },
  {
   "cell_type": "code",
   "execution_count": 23,
   "id": "4c33e29c",
   "metadata": {},
   "outputs": [],
   "source": [
    "a=a*3"
   ]
  },
  {
   "cell_type": "code",
   "execution_count": 24,
   "id": "3ba3fa24",
   "metadata": {},
   "outputs": [
    {
     "data": {
      "text/plain": [
       "'blueblueblue'"
      ]
     },
     "execution_count": 24,
     "metadata": {},
     "output_type": "execute_result"
    }
   ],
   "source": [
    "a"
   ]
  },
  {
   "cell_type": "code",
   "execution_count": 25,
   "id": "2586a85e",
   "metadata": {},
   "outputs": [],
   "source": [
    "a=a*3"
   ]
  },
  {
   "cell_type": "code",
   "execution_count": 26,
   "id": "1782cf80",
   "metadata": {},
   "outputs": [
    {
     "data": {
      "text/plain": [
       "'blueblueblueblueblueblueblueblueblue'"
      ]
     },
     "execution_count": 26,
     "metadata": {},
     "output_type": "execute_result"
    }
   ],
   "source": [
    "a"
   ]
  },
  {
   "cell_type": "code",
   "execution_count": 27,
   "id": "f40218c8",
   "metadata": {},
   "outputs": [
    {
     "data": {
      "text/plain": [
       "2263324279696"
      ]
     },
     "execution_count": 27,
     "metadata": {},
     "output_type": "execute_result"
    }
   ],
   "source": [
    "id(a)"
   ]
  },
  {
   "cell_type": "code",
   "execution_count": 28,
   "id": "bc7e66f9",
   "metadata": {},
   "outputs": [],
   "source": [
    "a=a*2"
   ]
  },
  {
   "cell_type": "markdown",
   "id": "d2cf0faf",
   "metadata": {},
   "source": [
    "id(a)"
   ]
  },
  {
   "cell_type": "code",
   "execution_count": 30,
   "id": "1ba9b029",
   "metadata": {},
   "outputs": [
    {
     "ename": "TypeError",
     "evalue": "can only concatenate str (not \"int\") to str",
     "output_type": "error",
     "traceback": [
      "\u001b[1;31m---------------------------------------------------------------------------\u001b[0m",
      "\u001b[1;31mTypeError\u001b[0m                                 Traceback (most recent call last)",
      "Cell \u001b[1;32mIn[30], line 1\u001b[0m\n\u001b[1;32m----> 1\u001b[0m a\u001b[38;5;241m=\u001b[39m\u001b[43ma\u001b[49m\u001b[38;5;241;43m+\u001b[39;49m\u001b[38;5;241;43m3\u001b[39;49m\n",
      "\u001b[1;31mTypeError\u001b[0m: can only concatenate str (not \"int\") to str"
     ]
    }
   ],
   "source": [
    "a=a+3"
   ]
  },
  {
   "cell_type": "code",
   "execution_count": 33,
   "id": "a5f8a2e2",
   "metadata": {},
   "outputs": [],
   "source": [
    "a=a+str(3)"
   ]
  },
  {
   "cell_type": "code",
   "execution_count": 34,
   "id": "ed141deb",
   "metadata": {},
   "outputs": [
    {
     "data": {
      "text/plain": [
       "'blueblueblueblueblueblueblueblueblueblueblueblueblueblueblueblueblueblueblueblueblueblueblueblueblueblueblueblueblueblueblueblueblueblueblueblue3'"
      ]
     },
     "execution_count": 34,
     "metadata": {},
     "output_type": "execute_result"
    }
   ],
   "source": [
    "a"
   ]
  },
  {
   "cell_type": "markdown",
   "id": "5e3413af",
   "metadata": {},
   "source": [
    "# Interating on string"
   ]
  },
  {
   "cell_type": "code",
   "execution_count": 35,
   "id": "ea41433e",
   "metadata": {},
   "outputs": [],
   "source": [
    "str=\"hello world\""
   ]
  },
  {
   "cell_type": "markdown",
   "id": "dd374abe",
   "metadata": {},
   "source": [
    "How many times L appers in the list"
   ]
  },
  {
   "cell_type": "code",
   "execution_count": 38,
   "id": "f6148456",
   "metadata": {},
   "outputs": [
    {
     "name": "stdout",
     "output_type": "stream",
     "text": [
      "3\n"
     ]
    }
   ],
   "source": [
    "#each character wise\n",
    "count=0\n",
    "for letter in str:\n",
    "    if letter=='l':\n",
    "        count=count+1\n",
    "print(count)       \n",
    "    \n"
   ]
  },
  {
   "cell_type": "code",
   "execution_count": 40,
   "id": "3e8b84d2",
   "metadata": {},
   "outputs": [
    {
     "name": "stdout",
     "output_type": "stream",
     "text": [
      "3\n"
     ]
    }
   ],
   "source": [
    "#index wise\n",
    "count=0\n",
    "for i in range (len(str)):\n",
    "    if(str[i]=='l'):\n",
    "        count=count+1\n",
    "print(count)        "
   ]
  },
  {
   "cell_type": "markdown",
   "id": "1b2a284e",
   "metadata": {},
   "source": [
    "in and not in on string"
   ]
  },
  {
   "cell_type": "code",
   "execution_count": 41,
   "id": "95225c76",
   "metadata": {},
   "outputs": [],
   "source": [
    "str=\"hello\"\n"
   ]
  },
  {
   "cell_type": "code",
   "execution_count": 42,
   "id": "b595b542",
   "metadata": {},
   "outputs": [
    {
     "name": "stdout",
     "output_type": "stream",
     "text": [
      "yes it is a substring\n"
     ]
    }
   ],
   "source": [
    "if 'hel' in str:\n",
    "    print(\"yes it is a substring\")"
   ]
  },
  {
   "cell_type": "code",
   "execution_count": 44,
   "id": "e8ae8e40",
   "metadata": {},
   "outputs": [
    {
     "name": "stdout",
     "output_type": "stream",
     "text": [
      "Not a substring\n"
     ]
    }
   ],
   "source": [
    "if 'heo' in str:\n",
    "    print(\"yes it is a substring\")\n",
    "else:\n",
    "    print(\"Not a substring\")"
   ]
  },
  {
   "cell_type": "code",
   "execution_count": 47,
   "id": "089cce03",
   "metadata": {},
   "outputs": [
    {
     "name": "stdout",
     "output_type": "stream",
     "text": [
      "yes it is  not a substring\n"
     ]
    }
   ],
   "source": [
    "if 'heo' not in str:\n",
    "    print(\"yes it is  not a substring\")\n",
    "else:\n",
    "    print(\" a substring\")"
   ]
  },
  {
   "cell_type": "markdown",
   "id": "4d0427cf",
   "metadata": {},
   "source": [
    "# comparision operator"
   ]
  },
  {
   "cell_type": "markdown",
   "id": "524d9b41",
   "metadata": {},
   "source": [
    ">= ,<=,>,< etc"
   ]
  },
  {
   "cell_type": "code",
   "execution_count": 48,
   "id": "7301aec5",
   "metadata": {},
   "outputs": [],
   "source": [
    "a=\"abhi\"==\"abhi\""
   ]
  },
  {
   "cell_type": "code",
   "execution_count": 49,
   "id": "07778ee7",
   "metadata": {},
   "outputs": [
    {
     "data": {
      "text/plain": [
       "True"
      ]
     },
     "execution_count": 49,
     "metadata": {},
     "output_type": "execute_result"
    }
   ],
   "source": [
    "a"
   ]
  },
  {
   "cell_type": "code",
   "execution_count": 50,
   "id": "acbc0098",
   "metadata": {},
   "outputs": [],
   "source": [
    "a=\"Rbhi\">=\"abhi\""
   ]
  },
  {
   "cell_type": "code",
   "execution_count": 51,
   "id": "3967b65e",
   "metadata": {},
   "outputs": [
    {
     "data": {
      "text/plain": [
       "False"
      ]
     },
     "execution_count": 51,
     "metadata": {},
     "output_type": "execute_result"
    }
   ],
   "source": [
    "a"
   ]
  },
  {
   "cell_type": "code",
   "execution_count": 52,
   "id": "65070994",
   "metadata": {},
   "outputs": [],
   "source": [
    "a=\"rbhi\">=\"abhi\""
   ]
  },
  {
   "cell_type": "code",
   "execution_count": 54,
   "id": "cee3502f",
   "metadata": {},
   "outputs": [
    {
     "data": {
      "text/plain": [
       "True"
      ]
     },
     "execution_count": 54,
     "metadata": {},
     "output_type": "execute_result"
    }
   ],
   "source": [
    "a"
   ]
  },
  {
   "cell_type": "code",
   "execution_count": 55,
   "id": "aadd5dd1",
   "metadata": {},
   "outputs": [],
   "source": [
    "a=\"abh\" >= \"abhi\""
   ]
  },
  {
   "cell_type": "code",
   "execution_count": 56,
   "id": "8bf4cbd7",
   "metadata": {},
   "outputs": [
    {
     "data": {
      "text/plain": [
       "False"
      ]
     },
     "execution_count": 56,
     "metadata": {},
     "output_type": "execute_result"
    }
   ],
   "source": [
    "a"
   ]
  },
  {
   "cell_type": "markdown",
   "id": "788f9d94",
   "metadata": {},
   "source": [
    "operations on strings\n"
   ]
  },
  {
   "cell_type": "markdown",
   "id": "c907aac2",
   "metadata": {},
   "source": [
    "# split"
   ]
  },
  {
   "cell_type": "code",
   "execution_count": 1,
   "id": "708645e5",
   "metadata": {},
   "outputs": [],
   "source": [
    "str=\"my name is abhi\"\n",
    "li=str.split()"
   ]
  },
  {
   "cell_type": "code",
   "execution_count": 2,
   "id": "6be1ed14",
   "metadata": {},
   "outputs": [
    {
     "data": {
      "text/plain": [
       "['my', 'name', 'is', 'abhi']"
      ]
     },
     "execution_count": 2,
     "metadata": {},
     "output_type": "execute_result"
    }
   ],
   "source": [
    "li"
   ]
  },
  {
   "cell_type": "code",
   "execution_count": 3,
   "id": "227632ec",
   "metadata": {},
   "outputs": [],
   "source": [
    "str=\"my,name,is,abhi\"\n",
    "li=str.split()"
   ]
  },
  {
   "cell_type": "code",
   "execution_count": 4,
   "id": "9c73c898",
   "metadata": {},
   "outputs": [
    {
     "data": {
      "text/plain": [
       "['my,name,is,abhi']"
      ]
     },
     "execution_count": 4,
     "metadata": {},
     "output_type": "execute_result"
    }
   ],
   "source": [
    "li"
   ]
  },
  {
   "cell_type": "code",
   "execution_count": 5,
   "id": "ce559380",
   "metadata": {},
   "outputs": [],
   "source": [
    "str=\"my,name,is,abhi\"\n",
    "li=str.split(',')"
   ]
  },
  {
   "cell_type": "code",
   "execution_count": 6,
   "id": "a7aa99dc",
   "metadata": {},
   "outputs": [
    {
     "data": {
      "text/plain": [
       "['my', 'name', 'is', 'abhi']"
      ]
     },
     "execution_count": 6,
     "metadata": {},
     "output_type": "execute_result"
    }
   ],
   "source": [
    "li"
   ]
  },
  {
   "cell_type": "code",
   "execution_count": 12,
   "id": "abdb93eb",
   "metadata": {},
   "outputs": [],
   "source": [
    "str=\"my,name,is,abhi\"\n",
    "li=str.split(',', 2) "
   ]
  },
  {
   "cell_type": "code",
   "execution_count": 13,
   "id": "0acd24c9",
   "metadata": {},
   "outputs": [
    {
     "data": {
      "text/plain": [
       "['my', 'name', 'is,abhi']"
      ]
     },
     "execution_count": 13,
     "metadata": {},
     "output_type": "execute_result"
    }
   ],
   "source": [
    "li"
   ]
  },
  {
   "cell_type": "markdown",
   "id": "592cde5e",
   "metadata": {},
   "source": [
    "when you give 2 then it will split in 2+1 part"
   ]
  },
  {
   "cell_type": "markdown",
   "id": "5a589166",
   "metadata": {},
   "source": [
    "#Replace "
   ]
  },
  {
   "cell_type": "code",
   "execution_count": 14,
   "id": "febd6f31",
   "metadata": {},
   "outputs": [],
   "source": [
    "#here i willl replace a string with another string"
   ]
  },
  {
   "cell_type": "code",
   "execution_count": 17,
   "id": "fa74682c",
   "metadata": {},
   "outputs": [
    {
     "name": "stdout",
     "output_type": "stream",
     "text": [
      "my name is abhi\n",
      "my name is shivam\n"
     ]
    }
   ],
   "source": [
    "str=\"my name is abhi\"\n",
    "str1=str.replace(\"abhi\",\"shivam\")\n",
    "print(str)\n",
    "print(str1)"
   ]
  },
  {
   "cell_type": "code",
   "execution_count": 18,
   "id": "1c5368af",
   "metadata": {},
   "outputs": [
    {
     "name": "stdout",
     "output_type": "stream",
     "text": [
      "my name is abhi\n"
     ]
    }
   ],
   "source": [
    "str=\"my name is abhi\"\n",
    "str.replace(\"abhi\",\"shivam\")\n",
    "print(str)\n"
   ]
  },
  {
   "cell_type": "code",
   "execution_count": 20,
   "id": "27e0f88d",
   "metadata": {},
   "outputs": [
    {
     "name": "stdout",
     "output_type": "stream",
     "text": [
      "my name is shivam shivam shivam shivam \n"
     ]
    }
   ],
   "source": [
    "str=\"my name is abhi abhi abhi abhi \"\n",
    "str1=str.replace(\"abhi\",\"shivam\")#if there is many abhi then it will replace all\n",
    "print(str1)"
   ]
  },
  {
   "cell_type": "code",
   "execution_count": 21,
   "id": "861a4719",
   "metadata": {},
   "outputs": [
    {
     "name": "stdout",
     "output_type": "stream",
     "text": [
      "my name is shivam shivam abhi abhi \n"
     ]
    }
   ],
   "source": [
    "str=\"my name is abhi abhi abhi abhi \"\n",
    "str1=str.replace(\"abhi\",\"shivam\",2)#if there is many abhi then it will replace 2 \n",
    "print(str1)"
   ]
  },
  {
   "cell_type": "markdown",
   "id": "b9bde493",
   "metadata": {},
   "source": [
    "# find"
   ]
  },
  {
   "cell_type": "code",
   "execution_count": 22,
   "id": "f1cec568",
   "metadata": {},
   "outputs": [],
   "source": [
    "#you want to find something in the string"
   ]
  },
  {
   "cell_type": "code",
   "execution_count": 26,
   "id": "def81a88",
   "metadata": {},
   "outputs": [],
   "source": [
    "str=\"my name is abbhi\""
   ]
  },
  {
   "cell_type": "code",
   "execution_count": 27,
   "id": "5363148a",
   "metadata": {},
   "outputs": [],
   "source": [
    "index=str.find(\"na\")"
   ]
  },
  {
   "cell_type": "code",
   "execution_count": 28,
   "id": "939c2b7c",
   "metadata": {},
   "outputs": [
    {
     "data": {
      "text/plain": [
       "3"
      ]
     },
     "execution_count": 28,
     "metadata": {},
     "output_type": "execute_result"
    }
   ],
   "source": [
    "index"
   ]
  },
  {
   "cell_type": "code",
   "execution_count": 29,
   "id": "a3253843",
   "metadata": {},
   "outputs": [],
   "source": [
    "index=str.find(\"abhi\")"
   ]
  },
  {
   "cell_type": "code",
   "execution_count": 30,
   "id": "1069ee53",
   "metadata": {},
   "outputs": [
    {
     "data": {
      "text/plain": [
       "-1"
      ]
     },
     "execution_count": 30,
     "metadata": {},
     "output_type": "execute_result"
    }
   ],
   "source": [
    "index"
   ]
  },
  {
   "cell_type": "code",
   "execution_count": 31,
   "id": "8f6aac5d",
   "metadata": {},
   "outputs": [],
   "source": [
    "index=str.find(\"na\",12,18)"
   ]
  },
  {
   "cell_type": "code",
   "execution_count": 32,
   "id": "f63e6759",
   "metadata": {},
   "outputs": [
    {
     "data": {
      "text/plain": [
       "-1"
      ]
     },
     "execution_count": 32,
     "metadata": {},
     "output_type": "execute_result"
    }
   ],
   "source": [
    "index"
   ]
  },
  {
   "cell_type": "markdown",
   "id": "d5c21ce5",
   "metadata": {},
   "source": [
    "# Lower and upper"
   ]
  },
  {
   "cell_type": "code",
   "execution_count": 35,
   "id": "9e5b8beb",
   "metadata": {},
   "outputs": [
    {
     "name": "stdout",
     "output_type": "stream",
     "text": [
      "my name is abhi\n",
      "MY NAME IS ABHI\n"
     ]
    }
   ],
   "source": [
    "str=\"My name is abhi\"\n",
    "str=str.lower()\n",
    "print(str)\n",
    "str=str.upper()\n",
    "print(str)"
   ]
  },
  {
   "cell_type": "markdown",
   "id": "bc495374",
   "metadata": {},
   "source": [
    "# starts with"
   ]
  },
  {
   "cell_type": "code",
   "execution_count": 54,
   "id": "3b2095ca",
   "metadata": {},
   "outputs": [],
   "source": [
    "str=\"my name is abhi \""
   ]
  },
  {
   "cell_type": "code",
   "execution_count": 55,
   "id": "b276dcef",
   "metadata": {},
   "outputs": [],
   "source": [
    "str=str.startswith(\"my\")"
   ]
  },
  {
   "cell_type": "code",
   "execution_count": 56,
   "id": "1e41b3b7",
   "metadata": {},
   "outputs": [
    {
     "name": "stdout",
     "output_type": "stream",
     "text": [
      "True\n"
     ]
    }
   ],
   "source": [
    "print(str)"
   ]
  },
  {
   "cell_type": "code",
   "execution_count": 61,
   "id": "51e16336",
   "metadata": {},
   "outputs": [
    {
     "name": "stdout",
     "output_type": "stream",
     "text": [
      "False\n"
     ]
    }
   ],
   "source": [
    "str=\"my name is abhi \"\n",
    "ans=str.startswith(\"am\",5,9)\n",
    "print(ans)"
   ]
  },
  {
   "cell_type": "raw",
   "id": "fd8fd92c",
   "metadata": {},
   "source": [
    "print(str)"
   ]
  },
  {
   "cell_type": "markdown",
   "id": "9e559d23",
   "metadata": {},
   "source": [
    "# replacing character"
   ]
  },
  {
   "cell_type": "code",
   "execution_count": 63,
   "id": "adaf3b24",
   "metadata": {},
   "outputs": [
    {
     "name": "stdout",
     "output_type": "stream",
     "text": [
      "ebcdqe\n"
     ]
    }
   ],
   "source": [
    "str=\"abcdqa\"\n",
    "ans =str.replace(\"a\",\"e\")\n",
    "print(ans)\n"
   ]
  },
  {
   "cell_type": "code",
   "execution_count": 77,
   "id": "57f7c318",
   "metadata": {},
   "outputs": [],
   "source": [
    "\n",
    "def replace(str,char1,char2):\n",
    "    new=\"\"\n",
    "    for i in range (len(str)):\n",
    "        if str[i]=='a':\n",
    "            new=new+'e'\n",
    "        else:\n",
    "            new=new+str[i]\n",
    "    return new       \n",
    "    \n",
    "        \n",
    "      "
   ]
  },
  {
   "cell_type": "code",
   "execution_count": 78,
   "id": "5ca16df6",
   "metadata": {},
   "outputs": [
    {
     "data": {
      "text/plain": [
       "'ebcdesed'"
      ]
     },
     "execution_count": 78,
     "metadata": {},
     "output_type": "execute_result"
    }
   ],
   "source": [
    "replace(\"abcdesad\",'a','e')"
   ]
  },
  {
   "cell_type": "markdown",
   "id": "c6f2245a",
   "metadata": {},
   "source": [
    "# count vowels, consonants,digits in string"
   ]
  },
  {
   "cell_type": "code",
   "execution_count": 22,
   "id": "b11a2a77",
   "metadata": {},
   "outputs": [],
   "source": [
    "def countInString(str):\n",
    "    v,c,d,s=0,0,0,0\n",
    "    for char in str:\n",
    "        if (char>='a' and char <='z') or (char >='A' and char <='Z'):\n",
    "            char=char.lower()\n",
    "            if (char=='a' or char=='e' or char=='i' or char=='o', char=='u'):\n",
    "                v=v+1\n",
    "            else:\n",
    "                c=c+1\n",
    "        elif (char >='0' and char<='9'):\n",
    "            d=d+1\n",
    "        else:\n",
    "            s=s+1\n",
    "    return v,c,d,s       \n",
    "            \n",
    "    \n",
    "\n"
   ]
  },
  {
   "cell_type": "code",
   "execution_count": 23,
   "id": "00c833d3",
   "metadata": {},
   "outputs": [
    {
     "name": "stdout",
     "output_type": "stream",
     "text": [
      "5 2 1 2\n"
     ]
    }
   ],
   "source": [
    "str=\"aeiosj@$1u\"\n",
    "v,c,d,s=countInString(str)\n",
    "print(v,c,d,s)"
   ]
  },
  {
   "cell_type": "code",
   "execution_count": null,
   "id": "28c22d7d",
   "metadata": {},
   "outputs": [],
   "source": []
  }
 ],
 "metadata": {
  "kernelspec": {
   "display_name": "Python 3 (ipykernel)",
   "language": "python",
   "name": "python3"
  },
  "language_info": {
   "codemirror_mode": {
    "name": "ipython",
    "version": 3
   },
   "file_extension": ".py",
   "mimetype": "text/x-python",
   "name": "python",
   "nbconvert_exporter": "python",
   "pygments_lexer": "ipython3",
   "version": "3.11.4"
  }
 },
 "nbformat": 4,
 "nbformat_minor": 5
}
